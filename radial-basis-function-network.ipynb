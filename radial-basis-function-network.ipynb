{
 "cells": [
  {
   "cell_type": "markdown",
   "metadata": {},
   "source": [
    "## Radial Basis Function Networks\n",
    "\n",
    "Used for Regression or Function approximation. RBF nets can learn to approximate trends using many Gaussian/bell curves\n",
    "\n",
    "RBF net is similar to a 2-layer network:\n",
    "\n",
    "**Hidden Layer**: Gaussian RBF used as an \"activation\" function\n",
    "**Output Layer**: Performs weighted sum\n",
    "\n",
    "### Gaussian/Normal Distribution (Bell Curve)\n",
    "\n",
    "$N(x; \\mu, \\sigma^2) = \\frac{1}{\\sqrt{2\\pi\\sigma^2}} e^{-\\frac{(x-\\mu)^2}{2\\sigma^2}}$, where $\\mu$ is **mean** and $\\sigma$ is **standard deviation**\n",
    "\n",
    "Above function is known as the **probability density function (pdf)**, but we're only concerned with the bell-curve properties of Gaussians, not the probability distribution.\n",
    "\n",
    "#### Gaussian Centers\n",
    "\n",
    "Need **K-means Clustering** to place the Gaussian centers. That way the Gaussian will span the clusters of data. Multiple Gaussians summed up can approximate any function.\n",
    "\n",
    "#### Standard Deviations\n",
    "\n",
    "Two Options to set standard deviations:\n",
    "\n",
    "1. Set as standard deviation of points assigned to a particular cluster\n",
    "2. Set a single standard deviation as $\\sigma_j = \\sigma \\forall j$, where $\\sigma = \\frac{d_{max}}{\\sqrt{2k}}$ and $d_{max}$ is the maximum distance between any two cluster centers and $k$ is the number of clusters\n",
    "\n",
    "### Backpropagation\n",
    "\n",
    "RBF Network produces a weighted sum output given an input x:\n",
    "\n",
    "$F(x) = \\sum_{j=1}^k w_j\\phi_j(x, c_j) + b$, where $w_j$ is the weight, $b$ is the bias, $k$ is the number of clusters, and $\\phi()$ is the Gaussian RBF:\n",
    "\n",
    "$\\phi_j(x, c_j) = exp(\\frac{-||x-c_j||^2}{2\\sigma^2_j})$\n",
    "\n",
    "#### Quadratic Cost Function\n",
    "\n",
    "$C = \\sum_{i=1}^N (y^{(i)} - F(x^{(i)}))^2$\n",
    "\n",
    "Compute partial derivative of the cost function with respect to $w_j$\n",
    "\n",
    "$\\frac{\\partial C}{\\partial w_j} = \\frac{\\partial C}{\\partial F} \\frac{\\partial F}{\\partial w_j}\n",
    "= \\frac{\\partial}{\\partial F} [\\sum_{i=1}^N (y^{(i)} - F(x^{(i)}))^2] * \\frac{\\partial}{\\partial w_j} [\\sum_{j=0}^K w_j \\phi_j (x, c_j) + b] = -(y^{(i)} - F(x^{(i)})) * \\phi_j(x, c_j)$\n",
    "\n",
    "$w_j \\leftarrow w_j + \\eta(y^{(i)} - F(x^{(i)})) \\phi_j(x, c_j)$\n",
    "\n",
    "\n",
    "Similarly compute partial derivative of cost function with respect to $b$\n",
    "\n",
    "$\\frac{\\partial C}{\\partial b} = \\frac{\\partial C}{\\partial F} \\frac{\\partial F}{\\partial b}$\n",
    "\n",
    "$= \\frac{\\partial}{\\partial F} [\\sum_{i=1}^N (y^{(i)} - F(x^{(i)}))^2] * \\frac{\\partial}{\\partial b} [\\sum_{j=0}^K w_j \\phi_j (x, c_j) + b] = -(y^{(i)} - F(x^{(i)})) * 1$\n",
    "\n",
    "$b \\leftarrow b + \\eta(y^{(i)} - F(x^{(i)}))$"
   ]
  },
  {
   "cell_type": "code",
   "execution_count": 2,
   "metadata": {},
   "outputs": [],
   "source": [
    "# Imports\n",
    "import numpy as np"
   ]
  },
  {
   "cell_type": "code",
   "execution_count": 3,
   "metadata": {},
   "outputs": [],
   "source": [
    "# Gaussian RBF\n",
    "def rbf(x, c, s):\n",
    "    return np.exp(-1 / (2 * s**2) * (x-c)**2)"
   ]
  },
  {
   "cell_type": "code",
   "execution_count": null,
   "metadata": {},
   "outputs": [],
   "source": [
    "# K-means clustering to determine the cluster centers\n",
    "# X {ndarray} -- A Mx1 array of inputs\n",
    "# k {int} -- Number of clusters\n",
    "# Returns -- kx1 array of final cluster centers\n",
    "def kmeans(X, k):\n",
    "    # randomly select initial clusters from input data\n",
    "    clusters = np.random.choice(np.squeeze(X), size=k)\n",
    "    prevClusers = clusters.copy()\n",
    "    stds = np.zeros(k)\n",
    "    converged = False\n",
    "    \n",
    "    while not converged:\n",
    "        # Compute distances for each cluster center"
   ]
  }
 ],
 "metadata": {
  "kernelspec": {
   "display_name": "Python 3",
   "language": "python",
   "name": "python3"
  },
  "language_info": {
   "codemirror_mode": {
    "name": "ipython",
    "version": 3
   },
   "file_extension": ".py",
   "mimetype": "text/x-python",
   "name": "python",
   "nbconvert_exporter": "python",
   "pygments_lexer": "ipython3",
   "version": "3.6.8"
  }
 },
 "nbformat": 4,
 "nbformat_minor": 2
}
