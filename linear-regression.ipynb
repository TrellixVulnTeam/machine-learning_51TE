{
 "cells": [
  {
   "cell_type": "markdown",
   "metadata": {},
   "source": [
    "### Simple Linear Regression\n",
    "\n",
    "Predict a response using a single feature (linear relation between two variables)\n",
    "\n",
    "#### Regression Line - Line which fits best\n",
    "\n",
    "$ h(x_i) = \\beta_0 + \\beta_1x_i $\n",
    "\n",
    "Need to find regression coefficients $\\beta_0$ and $\\beta_1$ \n",
    "\n",
    "#### Use Least Squares technique\n",
    "\n",
    "$ y_i = \\beta_0 + \\beta_1x_i + \\epsilon_i = h(x_i) + \\epsilon_i \\Rightarrow \\epsilon_i = y_i - h(x_i) $\n",
    "\n",
    "#### Squared Error or Cost function: J\n",
    "\n",
    "$ J(\\beta_0, \\beta_1) = \\frac{1}{2n}\\Sigma^n_{i=1}\\epsilon^2_i $\n",
    "\n",
    "$ \\beta_1 = \\frac{SS_{xy}}{SS_{xx}} $\n",
    "\n",
    "$ \\beta_0 = \\bar{y} - \\beta_1\\bar{x} $\n",
    "\n",
    "$ SS_{xy} = \\Sigma^n_{i=1} (x_i - \\bar{x})(y_i - \\bar{y}) = \\Sigma^n_{i=1} y_ix_i - n\\bar{x}\\bar{y} $\n",
    "\n",
    "$ SS_{xx} = \\Sigma^n_{i=1} (x_i - \\bar{x})^2 = \\Sigma^n_{i=1} x_i^2 - n(\\bar{x})^2 $"
   ]
  },
  {
   "cell_type": "code",
   "execution_count": 1,
   "metadata": {},
   "outputs": [],
   "source": [
    "# Imports \n",
    "import numpy as np\n",
    "import matplotlib.pyplot as plt"
   ]
  },
  {
   "cell_type": "code",
   "execution_count": 2,
   "metadata": {},
   "outputs": [],
   "source": [
    "# Estimate the regression coefficients b_0 and b_1\n",
    "def estimate_coef(x, y):\n",
    "    # Number of observations/points\n",
    "    n = np.size(x)\n",
    "    \n",
    "    # Mean of x and y vectors\n",
    "    m_x, m_y = np.mean(x), np.mean(y)\n",
    "    \n",
    "    # Calculate cross-deviation and deviation about x\n",
    "    SS_xy = np.sum(y * x) - n * m_y * m_x\n",
    "    SS_xx = np.sum(x * x) - n * m_x * m_x\n",
    "    \n",
    "    # Calculate regression coefficients\n",
    "    b_1 = SS_xy / SS_xx\n",
    "    b_0 = m_y - b_1 * m_x\n",
    "    \n",
    "    return(b_0, b_1)"
   ]
  },
  {
   "cell_type": "code",
   "execution_count": 4,
   "metadata": {},
   "outputs": [],
   "source": [
    "# Plot the regression line on graphs of scattered points\n",
    "def plot_regression_line(x, y, b): \n",
    "    # Plot actuals points as scatter plot\n",
    "    plt.scatter(x, y, color=\"m\", marker=\"o\", s=30)\n",
    "    \n",
    "    # Predict the response vector\n",
    "    y_pred = b[0] + b[1] * x\n",
    "    \n",
    "    # Plot the regression line\n",
    "    plt.plot(x, y_pred, color=\"g\")\n",
    "    \n",
    "    # Add labels\n",
    "    plt.xlabel('x')\n",
    "    plt.ylabel('y')\n",
    "    \n",
    "    # Show plot\n",
    "    plt.show()"
   ]
  },
  {
   "cell_type": "code",
   "execution_count": 5,
   "metadata": {},
   "outputs": [],
   "source": [
    "# Calculate regression line given single feature and response vector\n",
    "def main():\n",
    "    # Observations\n",
    "    x = np.array([0, 1, 2, 3, 4, 5, 6, 7, 8, 9])\n",
    "    y = np.array([1, 3, 2, 5, 7, 8, 8, 9, 10, 12])\n",
    "    \n",
    "    # Estimate Coefficients\n",
    "    b = estimate_coef(x, y)\n",
    "    print(\"Estimated coefficients:\\nb_0 = {} \\nb_1 = {}\". format(b[0], b[1]))\n",
    "    \n",
    "    # Plot regression line\n",
    "    plot_regression_line(x, y, b)"
   ]
  },
  {
   "cell_type": "code",
   "execution_count": 6,
   "metadata": {},
   "outputs": [
    {
     "name": "stdout",
     "output_type": "stream",
     "text": [
      "Estimated coefficients:\n",
      "b_0 = 1.2363636363636363 \n",
      "b_1 = 1.1696969696969697\n"
     ]
    },
    {
     "data": {
      "image/png": "[encoded data removed]",
      "text/plain": [
       "<Figure size 432x288 with 1 Axes>"
      ]
     },
     "metadata": {
      "needs_background": "light"
     },
     "output_type": "display_data"
    }
   ],
   "source": [
    "main()"
   ]
  },
  {
   "cell_type": "markdown",
   "metadata": {},
   "source": [
    "### Multiple Linear Regression\n",
    "\n",
    "Model the relationship between **two or more features**\n",
    "\n",
    "Uses a dataset of **n** rows with **p** features/independent variables and one response\n",
    "\n",
    "X (feature matrix) = a matrix of size **n x p** where $x_{ij}$ denotes the $j^{th}$ feature for the $i^{th}$ observation\n",
    "\n",
    "y (response vector) = a vector of size **n** where $y_i$ denotes the value of response for the $i^{th}$ observation\n",
    "\n",
    "#### Regression line for *p* features\n",
    "\n",
    "$h(x_i) = \\beta_0 + \\beta_1x_{i1} + ... + \\beta_px_{ip}$, where $h_i$ is **predicted response value** for the $i^{th}$ observation\n",
    "\n",
    "$y_i = \\beta_0 + \\beta_1x_{i1} + \\beta_2x_{i2} + ... + \\beta_px_{ip} + \\epsilon_i = h(x_i) + \\epsilon_i \\Rightarrow \\epsilon_i = y_i - h(x_i)$, where $\\epsilon_i$ represents the **residual error**\n",
    "\n",
    "\n",
    "#### Linear model in terms of matrices\n",
    "\n",
    "$y = X\\beta + \\epsilon$, where\n",
    "\n",
    "$X = \\begin{bmatrix} 1 & x_{11} & \\cdots & x_{1p} \\\\ \n",
    "    1 & x_{21} & \\cdots & x_{2p} \\\\\n",
    "    \\vdots & \\vdots & \\ddots & \\vdots \\\\\n",
    "    1 & x_{n1} & \\cdots & x_{np} \\end{bmatrix}$,\n",
    "\n",
    "$\\beta = \\begin{bmatrix} \\beta_0 \\\\ \\beta_1 \\\\ \\vdots \\\\ \\beta_p \\end{bmatrix}$,\n",
    "\n",
    "$\\epsilon = \\begin{bmatrix} \\epsilon_1 \\\\ \\epsilon_2 \\\\ \\vdots \\\\ \\epsilon_n \\end{bmatrix}$\n",
    "\n",
    "### Estimate $\\beta$ using Least Square method\n",
    "\n",
    "Determine $\\beta'$ by minimizing total residual error\n",
    "\n",
    "$\\hat{\\beta} = (X'X)^{-1}X'y$, where ' is transpose and -1 is matrix inverse\n",
    "\n",
    "Therefore, $\\hat{y} = X\\hat{\\beta}$, where $\\hat{y}$ is the **estimated response vector**"
   ]
  },
  {
   "cell_type": "code",
   "execution_count": 4,
   "metadata": {},
   "outputs": [
    {
     "name": "stdout",
     "output_type": "stream",
     "text": [
      "Coefficients: \n",
      " [-8.95714048e-02  6.73132853e-02  5.04649248e-02  2.18579583e+00\n",
      " -1.72053975e+01  3.63606995e+00  2.05579939e-03 -1.36602886e+00\n",
      "  2.89576718e-01 -1.22700072e-02 -8.34881849e-01  9.40360790e-03\n",
      " -5.04008320e-01]\n",
      "Variance score: 0.720905667266179\n"
     ]
    },
    {
     "data": {
      "image/png": "[encoded data removed]",
      "text/plain": [
       "<Figure size 432x288 with 1 Axes>"
      ]
     },
     "metadata": {},
     "output_type": "display_data"
    }
   ],
   "source": [
    "import matplotlib.pyplot as plt\n",
    "import numpy as np\n",
    "from sklearn import datasets, linear_model, metrics\n",
    "from sklearn.model_selection import train_test_split\n",
    "\n",
    "# Load the Boston dataset\n",
    "boston = datasets.load_boston(return_X_y=False)\n",
    "\n",
    "# Split data into training and testing sets\n",
    "X_train, X_test, y_train, y_test = train_test_split(boston.data, boston.target, test_size=0.4, random_state=1)\n",
    "\n",
    "# Create linear regression object\n",
    "reg = linear_model.LinearRegression()\n",
    "\n",
    "# Train the model using training sets\n",
    "reg.fit(X_train, y_train)\n",
    "\n",
    "# Regression coefficients\n",
    "print('Coefficients: \\n', reg.coef_)\n",
    "\n",
    "# Variance score: 1 means perfect prediction\n",
    "print('Variance score: {}'.format(reg.score(X_test, y_test)))\n",
    "\n",
    "# Plot for residual error\n",
    "plt.style.use('fivethirtyeight')\n",
    "\n",
    "plt.scatter(reg.predict(X_train), reg.predict(X_train) - y_train, color=\"green\", s=10, label=\"Train data\")\n",
    "plt.scatter(reg.predict(X_test), reg.predict(X_test) - y_test, color=\"blue\", s=10, label=\"Test data\")\n",
    "\n",
    "plt.hlines(y=0, xmin=0, xmax=50, linewidth=2)\n",
    "plt.legend(loc=\"upper right\")\n",
    "plt.title(\"Residual errors\")\n",
    "plt.show()"
   ]
  }
 ],
 "metadata": {
  "kernelspec": {
   "display_name": "Python 3",
   "language": "python",
   "name": "python3"
  },
  "language_info": {
   "codemirror_mode": {
    "name": "ipython",
    "version": 3
   },
   "file_extension": ".py",
   "mimetype": "text/x-python",
   "name": "python",
   "nbconvert_exporter": "python",
   "pygments_lexer": "ipython3",
   "version": "3.6.8"
  }
 },
 "nbformat": 4,
 "nbformat_minor": 2
}
