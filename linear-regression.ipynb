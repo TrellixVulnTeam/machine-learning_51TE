{
 "cells": [
  {
   "cell_type": "markdown",
   "metadata": {},
   "source": [
    "### Simple Linear Regression\n",
    "\n",
    "Predict a response using a single feature (linear relation between two variables)\n",
    "\n",
    "#### Regression Line - Line which fits best\n",
    "\n",
    "$ h(x_i) = \\beta_0 + \\beta_1x_i $\n",
    "\n",
    "Need to find regression coefficients $\\beta_0$ and $\\beta_1$ \n",
    "\n",
    "#### Use Least Squares technique\n",
    "\n",
    "$ y_i = \\beta_0 + \\beta_1x_i + \\epsilon_i = h(x_i) + \\epsilon_i \\Rightarrow \\epsilon_i = y_i - h(x_i) $\n",
    "\n",
    "#### Squared Error or Cost function: J\n",
    "\n",
    "$ J(\\beta_0, \\beta_1) = \\frac{1}{2n}\\Sigma^n_{i=1}\\epsilon^2_i $\n",
    "\n",
    "$ \\beta_1 = \\frac{SS_{xy}}{SS_{xx}} $\n",
    "\n",
    "$ \\beta_0 = \\bar{y} - \\beta_1\\bar{x} $\n",
    "\n",
    "$ SS_{xy} = \\Sigma^n_{i=1} (x_i - \\bar{x})(y_i - \\bar{y}) = \\Sigma^n_{i=1} y_ix_i - n\\bar{x}\\bar{y} $\n",
    "\n",
    "$ SS_{xx} = \\Sigma^n_{i=1} (x_i - \\bar{x})^2 = \\Sigma^n_{i=1} x_i^2 - n(\\bar{x})^2 $"
   ]
  },
  {
   "cell_type": "code",
   "execution_count": 1,
   "metadata": {},
   "outputs": [],
   "source": [
    "# Imports \n",
    "import numpy as np\n",
    "import matplotlib.pyplot as plt"
   ]
  },
  {
   "cell_type": "code",
   "execution_count": 2,
   "metadata": {},
   "outputs": [],
   "source": [
    "# Estimate the regression coefficients b_0 and b_1\n",
    "def estimate_coef(x, y):\n",
    "    # Number of observations/points\n",
    "    n = np.size(x)\n",
    "    \n",
    "    # Mean of x and y vectors\n",
    "    m_x, m_y = np.mean(x), np.mean(y)\n",
    "    \n",
    "    # Calculate cross-deviation and deviation about x\n",
    "    SS_xy = np.sum(y * x) - n * m_y * m_x\n",
    "    SS_xx = np.sum(x * x) - n * m_x * m_x\n",
    "    \n",
    "    # Calculate regression coefficients\n",
    "    b_1 = SS_xy / SS_xx\n",
    "    b_0 = m_y - b_1 * m_x\n",
    "    \n",
    "    return(b_0, b_1)"
   ]
  },
  {
   "cell_type": "code",
   "execution_count": 4,
   "metadata": {},
   "outputs": [],
   "source": [
    "# Plot the regression line on graphs of scattered points\n",
    "def plot_regression_line(x, y, b): \n",
    "    # Plot actuals points as scatter plot\n",
    "    plt.scatter(x, y, color=\"m\", marker=\"o\", s=30)\n",
    "    \n",
    "    # Predict the response vector\n",
    "    y_pred = b[0] + b[1] * x\n",
    "    \n",
    "    # Plot the regression line\n",
    "    plt.plot(x, y_pred, color=\"g\")\n",
    "    \n",
    "    # Add labels\n",
    "    plt.xlabel('x')\n",
    "    plt.ylabel('y')\n",
    "    \n",
    "    # Show plot\n",
    "    plt.show()"
   ]
  },
  {
   "cell_type": "code",
   "execution_count": 5,
   "metadata": {},
   "outputs": [],
   "source": [
    "# Calculate regression line given single feature and response vector\n",
    "def main():\n",
    "    # Observations\n",
    "    x = np.array([0, 1, 2, 3, 4, 5, 6, 7, 8, 9])\n",
    "    y = np.array([1, 3, 2, 5, 7, 8, 8, 9, 10, 12])\n",
    "    \n",
    "    # Estimate Coefficients\n",
    "    b = estimate_coef(x, y)\n",
    "    print(\"Estimated coefficients:\\nb_0 = {} \\nb_1 = {}\". format(b[0], b[1]))\n",
    "    \n",
    "    # Plot regression line\n",
    "    plot_regression_line(x, y, b)"
   ]
  },
  {
   "cell_type": "code",
   "execution_count": 6,
   "metadata": {},
   "outputs": [
    {
     "name": "stdout",
     "output_type": "stream",
     "text": [
      "Estimated coefficients:\n",
      "b_0 = 1.2363636363636363 \n",
      "b_1 = 1.1696969696969697\n"
     ]
    },
    {
     "data": {
      "image/png": "[encoded data removed]",
      "text/plain": [
       "<Figure size 432x288 with 1 Axes>"
      ]
     },
     "metadata": {
      "needs_background": "light"
     },
     "output_type": "display_data"
    }
   ],
   "source": [
    "main()"
   ]
  }
 ],
 "metadata": {
  "kernelspec": {
   "display_name": "Python 3",
   "language": "python",
   "name": "python3"
  },
  "language_info": {
   "codemirror_mode": {
    "name": "ipython",
    "version": 3
   },
   "file_extension": ".py",
   "mimetype": "text/x-python",
   "name": "python",
   "nbconvert_exporter": "python",
   "pygments_lexer": "ipython3",
   "version": "3.6.8"
  }
 },
 "nbformat": 4,
 "nbformat_minor": 2
}
