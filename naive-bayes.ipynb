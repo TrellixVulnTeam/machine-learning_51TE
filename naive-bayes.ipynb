{
 "cells": [
  {
   "cell_type": "markdown",
   "metadata": {},
   "source": [
    "### Naive Bayes' Classifier\n",
    "\n",
    "#### Bayes' Theorem\n",
    "\n",
    "$P(A|B)=\\frac{P(B|A)P(A)}{P(B)}$\n",
    "\n",
    "\n",
    "#### Apply Bayes' Theorem to dataset\n",
    "\n",
    "$P(y|X) = \\frac{P(X|y)P(y)}{P(X)}$, given y is class variable and $X=(x_1, x_2, ..., x_n)$\n",
    "\n",
    "\n",
    "#### Naive assumption that all variables x in X are independent\n",
    "\n",
    "$P(y|x_1,...,x_n) = \\frac{P(x_1|y)...P(x_n|y)P(y)}{P(x_1)...P(x_n)} = \\frac{P(y)\\Pi^n_{i=1}P(x_i|y)}{P(x_1)...P(x_n)} = P(y)\\Pi^n_{i=1}P(x_i|y)$"
   ]
  },
  {
   "cell_type": "markdown",
   "metadata": {},
   "source": [
    "### Gaussian Naive Bayes' Classifier\n",
    "\n",
    "#### Apply Gaussian (Normal) Distribution on each feature\n",
    "\n",
    "$P(x_i|y) = \\frac{1}{\\sqrt{2\\pi\\sigma^2_y}}\\exp(-\\frac{x_i-\\mu_y)^2}{2\\sigma^2_y})$"
   ]
  },
  {
   "cell_type": "code",
   "execution_count": 1,
   "metadata": {},
   "outputs": [],
   "source": [
    "# Load the iris dataset\n",
    "from sklearn.datasets import load_iris\n",
    "iris = load_iris()\n",
    "\n",
    "# Store feature matrix (X) and response vector (y)\n",
    "X = iris.data\n",
    "y = iris.target"
   ]
  },
  {
   "cell_type": "code",
   "execution_count": 2,
   "metadata": {},
   "outputs": [],
   "source": [
    "# Split X and y into training and testing sets\n",
    "from sklearn.model_selection import train_test_split\n",
    "X_train, X_test, y_train, y_test = train_test_split(X, y, test_size=0.4, random_state=1)"
   ]
  },
  {
   "cell_type": "code",
   "execution_count": 3,
   "metadata": {},
   "outputs": [
    {
     "data": {
      "text/plain": [
       "GaussianNB(priors=None, var_smoothing=1e-09)"
      ]
     },
     "execution_count": 3,
     "metadata": {},
     "output_type": "execute_result"
    }
   ],
   "source": [
    "# Train model on testing set\n",
    "from sklearn.naive_bayes import GaussianNB\n",
    "gnb = GaussianNB()\n",
    "gnb.fit(X_train, y_train)"
   ]
  },
  {
   "cell_type": "code",
   "execution_count": 5,
   "metadata": {},
   "outputs": [
    {
     "name": "stdout",
     "output_type": "stream",
     "text": [
      "Gaussian Naive Bayes model accuracy(in %): 95.0\n"
     ]
    }
   ],
   "source": [
    "# Making predictions on the testing set\n",
    "y_pred = gnb.predict(X_test)\n",
    "\n",
    "# Compare actual vs expected response values (y_test vs y_pred)\n",
    "from sklearn import metrics\n",
    "print(\"Gaussian Naive Bayes model accuracy(in %):\", metrics.accuracy_score(y_test, y_pred)*100)"
   ]
  }
 ],
 "metadata": {
  "kernelspec": {
   "display_name": "Python 3",
   "language": "python",
   "name": "python3"
  },
  "language_info": {
   "codemirror_mode": {
    "name": "ipython",
    "version": 3
   },
   "file_extension": ".py",
   "mimetype": "text/x-python",
   "name": "python",
   "nbconvert_exporter": "python",
   "pygments_lexer": "ipython3",
   "version": "3.6.8"
  }
 },
 "nbformat": 4,
 "nbformat_minor": 2
}
