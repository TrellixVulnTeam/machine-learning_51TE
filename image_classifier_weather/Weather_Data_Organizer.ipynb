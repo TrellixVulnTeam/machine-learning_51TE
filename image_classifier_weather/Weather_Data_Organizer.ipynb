{
 "cells": [
  {
   "cell_type": "code",
   "execution_count": 14,
   "metadata": {},
   "outputs": [],
   "source": [
    "import os\n",
    "import random\n",
    "import shutil\n",
    "\n",
    "# Initialize\n",
    "weather_cats = ['cloudy', 'rain', 'shine', 'sunrise']\n",
    "old_dataset_path = './dataset2'\n",
    "image_list = os.listdir(old_dataset_path)\n",
    "\n",
    "dataset_path = './weather_data'\n",
    "train_path = dataset_path + '/train'\n",
    "valid_path = dataset_path + '/valid'\n",
    "\n",
    "# Clear current data directory\n",
    "if os.path.exists(dataset_path)\n",
    "    shutil.rmtree(dataset_path)\n",
    "\n",
    "# Create new dataset directories\n",
    "os.makedirs(train_path, exist_ok=True)\n",
    "os.makedirs(valid_path, exist_ok=True)\n",
    "\n",
    "cat_to_name = {}"
   ]
  },
  {
   "cell_type": "code",
   "execution_count": 15,
   "metadata": {},
   "outputs": [],
   "source": [
    "# Loop through each category\n",
    "for i, cat in enumerate(weather_cats):\n",
    "    \n",
    "    # Filter out by category\n",
    "    cat_list = list(filter(lambda x: x.startswith(cat), image_list))\n",
    "\n",
    "    # Randomize image order\n",
    "    random.shuffle(cat_list)\n",
    "    \n",
    "    # Create category directories\n",
    "    cat_path = '/' + str(i)\n",
    "    os.makedirs(train_path + cat_path, exist_ok=True)\n",
    "    os.makedirs(valid_path + cat_path, exist_ok=True)\n",
    "    \n",
    "    # 25% of images go to validation set, rest go to train\n",
    "    for j, image_name in enumerate(cat_list):\n",
    "        \n",
    "        if (j > len(cat_list) // 4):\n",
    "            # Training set\n",
    "            shutil.copy(old_dataset_path + '/' + image_name,\n",
    "                       train_path + cat_path + '/' + image_name)\n",
    "        else:\n",
    "            # Validation set\n",
    "            shutil.copy(old_dataset_path + '/' + image_name,\n",
    "                       valid_path + cat_path + '/' + image_name)\n",
    "    \n",
    "    # Add category to json dict\n",
    "    cat_to_name[str(i)] = cat"
   ]
  },
  {
   "cell_type": "code",
   "execution_count": 17,
   "metadata": {},
   "outputs": [],
   "source": [
    "import json\n",
    "\n",
    "# Write json file\n",
    "with open('cat_to_name.json', 'w') as out:\n",
    "    json.dump(cat_to_name, out)"
   ]
  }
 ],
 "metadata": {
  "kernelspec": {
   "display_name": "Python 3",
   "language": "python",
   "name": "python3"
  },
  "language_info": {
   "codemirror_mode": {
    "name": "ipython",
    "version": 3
   },
   "file_extension": ".py",
   "mimetype": "text/x-python",
   "name": "python",
   "nbconvert_exporter": "python",
   "pygments_lexer": "ipython3",
   "version": "3.8.3"
  }
 },
 "nbformat": 4,
 "nbformat_minor": 4
}
