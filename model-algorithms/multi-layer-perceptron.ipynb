{
 "cells": [
  {
   "cell_type": "markdown",
   "metadata": {},
   "source": [
    "## Multi-layer Perceptron\n",
    "\n",
    "Network with multiple layers of perceptrons stacked together. A single perceptron is a linear model taking multiple inputs, multiplied with weights, and added to a bias term to produce an output.\n",
    "\n",
    "$Z = \\vec{w} \\cdot X + b$\n",
    "\n",
    "### Dense (Hidden) Layer\n",
    "\n",
    "A **Dense Layer** is a fully-connected layer of perceptrons:\n",
    "\n",
    "$f(X) = W \\cdot X + \\vec{b}$\n",
    "\n",
    "A **Multi-layer Perceptron** has several dense layers\n",
    "\n",
    "### Rectified Linear Units (ReLU)\n",
    "\n",
    "**ReLU** is an activation function which is zero for any values below 0:\n",
    "\n",
    "$f(x) = max(0, X)$\n",
    "\n",
    "### Neural Network Training\n",
    "\n",
    "#### Feed-forward Loop \n",
    "\n",
    "Takes an input and generate output for making a prediction\n",
    "\n",
    "#### Backpropagation Loop\n",
    "\n",
    "Trains the model by adjusting weights in the layer to lower output loss. Done using backpropagated gradients using the chain rule and optimized using **stochastic gradient descent (SGD)** \n",
    "\n",
    "Compute loss gradient using chain rule\n",
    "\n",
    "$ \\frac{\\partial loss}{\\partial x} = \\frac{\\partial loss}{\\partial layer} * \\frac{\\partial layer}{\\partial x}$\n",
    "\n",
    "$ \\frac{\\partial loss}{\\partial layer}$ is received as layer input"
   ]
  },
  {
   "cell_type": "code",
   "execution_count": 3,
   "metadata": {},
   "outputs": [],
   "source": [
    "# Imports\n",
    "from __future__ import print_function\n",
    "import numpy as np\n",
    "np.random.seed(42)"
   ]
  },
  {
   "cell_type": "code",
   "execution_count": 4,
   "metadata": {},
   "outputs": [],
   "source": [
    "class Layer:\n",
    "    # Dummy Layer: does nothing\n",
    "    \n",
    "    def __init__(self):\n",
    "        \n",
    "        pass\n",
    "    \n",
    "    def forward(self, input):\n",
    "        # Take input data of shape[batch, input_units]\n",
    "        # Returns output data [batch, output_units]\n",
    "        return input\n",
    "    \n",
    "    def backward(self, input, grad_output):\n",
    "        # Performs a backpropagation step through the layer, w.r.t. given input\n",
    "        \n",
    "        # d loss / d layer is received as input, so only need to multiply by d layer / d x\n",
    "        \n",
    "        # The layer's parameters need to be updated in d layer / d x\n",
    "        \n",
    "        num_units = input.shape[1]\n",
    "        \n",
    "        d_layer_d_input = np.eye(num_units)\n",
    "        \n",
    "        return np.dot(grad_output, d_layer_d_input) # chain rule"
   ]
  },
  {
   "cell_type": "code",
   "execution_count": 5,
   "metadata": {},
   "outputs": [],
   "source": [
    "# Simple layer that adds nonlinearity to elements in the network\n",
    "class ReLU(Layer):\n",
    "    def __init__(self):\n",
    "        # ReLU layer simply applies elementwise rectified linear unit to all inputs\n",
    "        pass\n",
    "    \n",
    "    def forward(self, input):\n",
    "        # Apply elementwise ReLU to [batch, input_units] matrix\n",
    "        relu_forward = np.maximum(0, input)\n",
    "        return relu_forward\n",
    "    \n",
    "    def backward(self, input, grad_output):\n",
    "        # Compute gradient of loss w.r.t. ReLU input\n",
    "        relu_grad = input > 0\n",
    "        return grad_output * relu_grad"
   ]
  },
  {
   "cell_type": "markdown",
   "metadata": {},
   "source": [
    "### Dense Layer Implementation\n",
    "\n",
    "Unlike the ReLU nonlinearity, a dense layer actually learns. It applies affine transformation defined as (in vecorized form):\n",
    "\n",
    "$f(X) = W \\cdot X + \\vec{b}$, where\n",
    "\n",
    "X is an object-feature matrix of shape [batch_size, num_features]\n",
    "\n",
    "W is a weight matrix [num_features, num_outputs]\n",
    "\n",
    "b is a vector of biases [num_outputs]\n",
    "\n",
    "#### Xavier Initialization\n",
    "\n",
    "W and b are initialized during layer creation and updated with each backward loop call.\n",
    "\n",
    "**Xavier initialization** trains the model to converge faster. Instead of initializing weights with small numbers distributed randomly randomly, it initializes with **mean:** 0 and **variance:** $\\frac{2}{\\text{# of inputs + # of outputs}}$\n",
    "\n",
    "#### Backward Loop\n",
    "\n",
    "Compute gradient w.r.t. weights and biases\n",
    "\n",
    "$\\frac{\\partial f}{\\partial x} = \\frac{\\partial f}{\\partial dense} * \\frac{\\partial dense}{\\partial x}$,\n",
    "where $\\frac{\\partial dense}{\\partial x}$ is weights transposed"
   ]
  },
  {
   "cell_type": "code",
   "execution_count": 6,
   "metadata": {},
   "outputs": [],
   "source": [
    "class Dense(Layer):\n",
    "    def __init__(self, input_units, output_units, learning_rate=0.1):\n",
    "        self.learning_rate = learning_rate\n",
    "        self.weights = np.random.normal(loc=0.0, scale=np.sqrt(2/(input_units+output_units)),\n",
    "            size=(input_units, output_units))\n",
    "        self.biases = np.zeros(output_units)\n",
    "    \n",
    "    def forward(self, input):\n",
    "        # input shape: [batch, input_units]\n",
    "        # output shape: [batch, output units]\n",
    "        \n",
    "        return np.dot(input, self.weights) + self.biases\n",
    "    \n",
    "    def backward(self, input, grad_output):\n",
    "        grad_input = np.dot(grad_output, self.weights.T)\n",
    "        \n",
    "        # Compute gradient w.r.t. weights and biases\n",
    "        grad_weights = np.dot(input.T, grad_output)\n",
    "        grad_biases = grad_output.mean(axis=0) * input.shape[0]\n",
    "        \n",
    "        assert grad_weights.shape == self.weights.shape and grad_biases.shape == self.biases.shape\n",
    "        \n",
    "        # Perform a stochastic gradient descent step\n",
    "        self.weights = self.weights - self.learning_rate * grad_weights\n",
    "        self.biases = self.biases - self.learning_rate * grad_biases\n",
    "        \n",
    "        return grad_input"
   ]
  },
  {
   "cell_type": "markdown",
   "metadata": {},
   "source": [
    "### Loss Function\n",
    "\n",
    "One option is to define a **softmax nonlinearity** on top of the network to predict probabilities and compute loss given predicted probabilities.\n",
    "\n",
    "But, it's better to compute crossentropy as a function of softmax logits:\n",
    "\n",
    "$ \\text{loss} = -log \\frac{e^{a_{correct}}}{\\sum_i e^{a_i}} = -a_{correct} + log \\sum_i e^{a_i} $\n",
    "\n",
    "Called **log-softmax** and is better than naive log(softmax(a)) at:\n",
    "\n",
    "- Better numerical stability\n",
    "- Easier to get derivative right\n",
    "- Marginally faster to compute"
   ]
  },
  {
   "cell_type": "code",
   "execution_count": 7,
   "metadata": {},
   "outputs": [],
   "source": [
    "def softmax_crossentropy_with_logits(logits, reference_answers):\n",
    "    # Compute corssentropy from logits[batch, n_classes] and ids of correct answers\n",
    "    logits_for_answers = logits[np.arange(len(logits)), reference_answers]\n",
    "    \n",
    "    xentropy = - logits_for_answers + np.log(np.sum(np.exp(logits), axis=-1))\n",
    "    \n",
    "    return xentropy\n",
    "\n",
    "def grad_softmax_crossentropy_with_logits(logits, reference_answers):\n",
    "    # Compute crossentropy gradient from logits[batch, n_classes] and ids of correct answers\n",
    "    ones_for_answers = np.zeros_like(logits)\n",
    "    ones_for_answers[np.arange(len(logits)), reference_answers] = 1\n",
    "    \n",
    "    softmax = np.exp(logits) / np.exp(logits).sum(axis=-1, keepdims=True)\n",
    "    \n",
    "    return (-ones_for_answers + softmax) / logits.shape[0]"
   ]
  },
  {
   "cell_type": "markdown",
   "metadata": {},
   "source": [
    "### Execution\n",
    "\n",
    "Now to use everything above as a working neural network. Training will be done with the MNIST data of handwritten digits. Keras has the data in numpy array format already."
   ]
  },
  {
   "cell_type": "code",
   "execution_count": 8,
   "metadata": {},
   "outputs": [
    {
     "name": "stderr",
     "output_type": "stream",
     "text": [
      "Using TensorFlow backend.\n"
     ]
    },
    {
     "data": {
      "image/png": "[encoded data removed]",
      "text/plain": [
       "<Figure size 432x432 with 4 Axes>"
      ]
     },
     "metadata": {
      "needs_background": "light"
     },
     "output_type": "display_data"
    }
   ],
   "source": [
    "import keras\n",
    "import matplotlib.pyplot as plt\n",
    "%matplotlib inline\n",
    "\n",
    "def load_dataset(flatten=False):\n",
    "    (X_train, y_train), (X_test, y_test) = keras.datasets.mnist.load_data()\n",
    "    \n",
    "    # Normalize X\n",
    "    X_train = X_train.astype(float) / 255.\n",
    "    X_test = X_test.astype(float) / 255.\n",
    "    \n",
    "    # Reserve the last 10,000 training examples for validation\n",
    "    X_train, X_val = X_train[:-10000], X_train[-10000:]\n",
    "    y_train, y_val = y_train[:-10000], y_train[-10000:]\n",
    "    \n",
    "    if flatten:\n",
    "        X_train = X_train.reshape([X_train.shape[0], -1])\n",
    "        X_val = X_val.reshape([X_val.shape[0], -1])\n",
    "        X_test = X_test.reshape([X_test.shape[0], -1])\n",
    "    \n",
    "    return X_train, y_train, X_val, y_val, X_test, y_test\n",
    "\n",
    "X_train, y_train, X_val, y_val, X_test, y_test = load_dataset(flatten=True)\n",
    "\n",
    "plt.figure(figsize=[6,6])\n",
    "for i in range(4):\n",
    "    plt.subplot(2, 2, i+1)\n",
    "    plt.title(\"Label: %i\"%y_train[i])\n",
    "    plt.imshow(X_train[i].reshape([28, 28]), cmap='gray');"
   ]
  },
  {
   "cell_type": "code",
   "execution_count": 15,
   "metadata": {},
   "outputs": [],
   "source": [
    "# Define network as list of layers\n",
    "network = []\n",
    "network.append(Dense(X_train.shape[1], 100))\n",
    "network.append(ReLU())\n",
    "network.append(Dense(100, 200))\n",
    "network.append(ReLU())\n",
    "network.append(Dense(200, 10))\n",
    "\n",
    "def forward(network, X):\n",
    "    # Compute activations of all network layers by applying them sequentially\n",
    "    # Return a list of activations for each layer\n",
    "    activations = []\n",
    "    input = X\n",
    "    \n",
    "    # Looping through each layer\n",
    "    for l in network:\n",
    "        activations.append(l.forward(input))\n",
    "        # Updating input to last layer output\n",
    "        input = activations[-1]\n",
    "    \n",
    "    assert len(activations) == len(network)\n",
    "    return activations\n",
    "\n",
    "def predict(network, X):\n",
    "    # Compute network predictions\n",
    "    # Return indices of largest Logit probability\n",
    "    \n",
    "    logits = forward(network, X)[-1]\n",
    "    return logits.argmax(axis=-1)\n",
    "\n",
    "def train(network, X, y):\n",
    "    # First run forward to get all layer activations\n",
    "    # Then run backward going from last to first layer\n",
    "    # Finally, all Dense layers will have made one gradient step\n",
    "    \n",
    "    # Get layer activations\n",
    "    layer_activations = forward(network, X)\n",
    "    layer_inputs = [X] + layer_activations # layer_input[i] is an input for network[i]\n",
    "    logits = layer_activations[-1]\n",
    "    \n",
    "    # Compute loss and initial gradient\n",
    "    loss = softmax_crossentropy_with_logits(logits, y)\n",
    "    loss_grad = grad_softmax_crossentropy_with_logits(logits, y)\n",
    "    \n",
    "    # Propagate gradients through the network\n",
    "    # Reverse propogation as this is backprop\n",
    "    for layer_index in range(len(network))[::-1]:\n",
    "        layer = network[layer_index]\n",
    "        \n",
    "        loss_grad = layer.backward(layer_inputs[layer_index], loss_grad) # grad w.r.t input\n",
    "        \n",
    "        return np.mean(loss)"
   ]
  },
  {
   "cell_type": "markdown",
   "metadata": {},
   "source": [
    "### Training Loop\n",
    "\n",
    "**Mini-Batch Stochastic Gradient Descent** splits the data into minibatches, feeds each minibatch into the network and updates weights."
   ]
  },
  {
   "cell_type": "code",
   "execution_count": 18,
   "metadata": {},
   "outputs": [
    {
     "name": "stdout",
     "output_type": "stream",
     "text": [
      "Epoch 49\n",
      "Train accuracy: 0.8667\n",
      "Val accuracy: 0.8784\n"
     ]
    },
    {
     "data": {
      "image/png": "[encoded data removed]",
      "text/plain": [
       "<Figure size 432x288 with 1 Axes>"
      ]
     },
     "metadata": {
      "needs_background": "light"
     },
     "output_type": "display_data"
    }
   ],
   "source": [
    "from tqdm import trange\n",
    "def iterate_minibatches(inputs, targets, batchsize, shuffle=False):\n",
    "    assert len(inputs) == len(targets)\n",
    "    if shuffle:\n",
    "        indices = np.random.permutation(len(inputs))\n",
    "    for start_idx in trange(0, len(inputs) - batchsize + 1, batchsize):\n",
    "        if shuffle:\n",
    "            excerpt = indices[start_idx:start_idx + batchsize]\n",
    "        else:\n",
    "            excerpt = slice(start_idx, start_idx + batchsize)\n",
    "        yield inputs[excerpt], targets[excerpt]\n",
    "        \n",
    "from IPython.display import clear_output\n",
    "train_log = []\n",
    "val_log = []\n",
    "\n",
    "for epoch in range(50):\n",
    "    \n",
    "    for x_batch, y_batch in iterate_minibatches(X_train, y_train, batchsize=32, shuffle=True):\n",
    "        train(network, x_batch, y_batch)\n",
    "        \n",
    "    train_log.append(np.mean(predict(network, X_train) == y_train))\n",
    "    val_log.append(np.mean(predict(network, X_val) == y_val))\n",
    "    \n",
    "    clear_output()\n",
    "    print(\"Epoch\", epoch)\n",
    "    print(\"Train accuracy:\", train_log[-1])\n",
    "    print(\"Val accuracy:\", val_log[-1])\n",
    "    \n",
    "    plt.plot(train_log, label='train accuracy')\n",
    "    plt.plot(val_log, label='val accuracy')\n",
    "    plt.legend(loc='best')\n",
    "    plt.grid()\n",
    "    plt.show()"
   ]
  }
 ],
 "metadata": {
  "kernelspec": {
   "display_name": "Python 3",
   "language": "python",
   "name": "python3"
  },
  "language_info": {
   "codemirror_mode": {
    "name": "ipython",
    "version": 3
   },
   "file_extension": ".py",
   "mimetype": "text/x-python",
   "name": "python",
   "nbconvert_exporter": "python",
   "pygments_lexer": "ipython3",
   "version": "3.6.8"
  }
 },
 "nbformat": 4,
 "nbformat_minor": 2
}
