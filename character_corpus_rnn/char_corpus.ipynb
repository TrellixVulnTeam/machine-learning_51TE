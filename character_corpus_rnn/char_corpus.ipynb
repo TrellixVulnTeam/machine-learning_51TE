{
 "cells": [
  {
   "cell_type": "markdown",
   "metadata": {},
   "source": [
    "## Objective: Build character corpus using a Recurrent Neural Network\n",
    "\n",
    "Reading moby_dick.txt as data source. Taken from mody_dick-ORIG.txt which was downloaded from Project Gutenberg\n",
    "\n",
    "Refer to this:\n",
    "https://www.tensorflow.org/tutorials/text/text_generation"
   ]
  },
  {
   "cell_type": "code",
   "execution_count": 11,
   "metadata": {},
   "outputs": [
    {
     "name": "stdout",
     "output_type": "stream",
     "text": [
      "﻿CHAPTER 1. Loomings.\n",
      "\n",
      "Call me Ishmael. Some years ago—never mind how long precisely—having\n",
      "little or no money in my purse, and nothing particular to interest me\n",
      "on shore, I thought I would sail about a little and see the watery part\n",
      "of the world. It\n"
     ]
    }
   ],
   "source": [
    "# Read text\n",
    "text = open('moby_dick.txt', 'r', encoding=\"utf8\").read()\n",
    "\n",
    "# Print first 250 characters\n",
    "print(text[:250])"
   ]
  },
  {
   "cell_type": "code",
   "execution_count": 15,
   "metadata": {},
   "outputs": [
    {
     "name": "stdout",
     "output_type": "stream",
     "text": [
      "['\\n', ' ', '!', '$', '&', '(', ')', '*', ',', '-', '.', '0', '1', '2', '3', '4', '5', '6', '7', '8', '9', ':', ';', '?', 'A', 'B', 'C', 'D', 'E', 'F', 'G', 'H', 'I', 'J', 'K', 'L', 'M', 'N', 'O', 'P', 'Q', 'R', 'S', 'T', 'U', 'V', 'W', 'X', 'Y', 'Z', '[', ']', '_', 'a', 'b', 'c', 'd', 'e', 'f', 'g', 'h', 'i', 'j', 'k', 'l', 'm', 'n', 'o', 'p', 'q', 'r', 's', 't', 'u', 'v', 'w', 'x', 'y', 'z', '£', 'â', 'æ', 'è', 'é', 'œ', '—', '‘', '’', '“', '”', '\\ufeff']\n"
     ]
    }
   ],
   "source": [
    "# Find all unique characters in the text\n",
    "vocab = sorted(set(text))\n",
    "\n",
    "print(vocab)"
   ]
  },
  {
   "cell_type": "code",
   "execution_count": 17,
   "metadata": {},
   "outputs": [
    {
     "name": "stdout",
     "output_type": "stream",
     "text": [
      "1191787 total characters\n",
      "91 unique characters\n"
     ]
    }
   ],
   "source": [
    "print('{} total characters'.format(len(text)))\n",
    "print('{} unique characters'.format(len(vocab)))"
   ]
  },
  {
   "cell_type": "markdown",
   "metadata": {},
   "source": [
    "### Vectorize the text\n",
    "\n",
    "Create a mapping from unique characters to a numerical representation"
   ]
  },
  {
   "cell_type": "code",
   "execution_count": 13,
   "metadata": {},
   "outputs": [],
   "source": [
    "import numpy as np\n",
    "\n",
    "char_to_idx = { ch:i for i, ch in enumerate(vocab) }\n",
    "idx_to_char = np.array(vocab)"
   ]
  },
  {
   "cell_type": "code",
   "execution_count": 16,
   "metadata": {},
   "outputs": [
    {
     "name": "stdout",
     "output_type": "stream",
     "text": [
      "[90 26 31 24 39 43 28 41  1 12 10  1 35 67 67 65 61 66 59 71 10  0  0 26\n",
      " 53 64 64  1 65 57  1 32 71 60 65 53 57 64 10  1 42 67 65 57  1 77 57 53\n",
      " 70 71  1 53 59 67 85 66 57 74 57 70  1 65 61 66 56  1 60 67 75  1 64 67\n",
      " 66 59  1 68 70 57 55 61 71 57 64 77 85 60 53 74 61 66 59  0 64 61 72 72\n",
      " 64 57  1 67 70  1 66 67  1 65 67 66 57 77  1 61 66  1 65 77  1 68 73 70\n",
      " 71 57  8  1 53 66 56  1 66 67 72 60 61 66 59  1 68 53 70 72 61 55 73 64\n",
      " 53 70  1 72 67  1 61 66 72 57 70 57 71 72  1 65 57  0 67 66  1 71 60 67\n",
      " 70 57  8  1 32  1 72 60 67 73 59 60 72  1 32  1 75 67 73 64 56  1 71 53\n",
      " 61 64  1 53 54 67 73 72  1 53  1 64 61 72 72 64 57  1 53 66 56  1 71 57\n",
      " 57  1 72 60 57  1 75 53 72 57 70 77  1 68 53 70 72  0 67 58  1 72 60 57\n",
      "  1 75 67 70 64 56 10  1 32 72]\n"
     ]
    }
   ],
   "source": [
    "# Map all characters in text to ints\n",
    "text_as_int = np.array([ char_to_idx[c] for c in text ])\n",
    "\n",
    "print(text_as_int[:250])"
   ]
  },
  {
   "cell_type": "code",
   "execution_count": null,
   "metadata": {},
   "outputs": [],
   "source": []
  }
 ],
 "metadata": {
  "kernelspec": {
   "display_name": "Python 3",
   "language": "python",
   "name": "python3"
  },
  "language_info": {
   "codemirror_mode": {
    "name": "ipython",
    "version": 3
   },
   "file_extension": ".py",
   "mimetype": "text/x-python",
   "name": "python",
   "nbconvert_exporter": "python",
   "pygments_lexer": "ipython3",
   "version": "3.8.3"
  }
 },
 "nbformat": 4,
 "nbformat_minor": 4
}
